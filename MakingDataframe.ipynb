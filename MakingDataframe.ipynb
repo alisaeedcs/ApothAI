{
 "cells": [
  {
   "cell_type": "markdown",
   "id": "bbe7bc58-f861-4593-865e-efbfd20b2917",
   "metadata": {},
   "source": [
    "# First, we will need to download our dataset effectively, we will begin with approximately 10 different pills\n",
    "## To do so, we will make a python script and implement it on the website"
   ]
  },
  {
   "cell_type": "markdown",
   "id": "a0086ebc-3203-400f-bb6c-89d618b50504",
   "metadata": {},
   "source": [
    "### Package Import"
   ]
  },
  {
   "cell_type": "code",
   "execution_count": 14,
   "id": "0ed33cb2-b22e-49c5-8b3d-e9333d352082",
   "metadata": {},
   "outputs": [],
   "source": [
    "import csv\n",
    "import pandas as pd"
   ]
  },
  {
   "cell_type": "markdown",
   "id": "58e4ab86-7d13-420e-9786-59fce78401d9",
   "metadata": {},
   "source": [
    "### Main code"
   ]
  },
  {
   "cell_type": "code",
   "execution_count": 36,
   "id": "34ec67bb-29bd-4d74-8e31-936eba47425a",
   "metadata": {},
   "outputs": [],
   "source": [
    "#load csv file into pandas dataframe\n",
    "dataframe = pd.read_csv('directory/directory_consumer_grade_images.csv')\n",
    "#specify which columns we want to keep\n",
    "dataframe = dataframe[['Part', 'Image', 'Layout', 'Name']]\n",
    "#Upload new csv file\n",
    "dataframe.to_csv('directory/updated.csv', index=False)\n",
    "\n",
    "#delete all the data that we will not use in this \n",
    "newdataframe = pd.read_csv('directory/updated.csv')\n",
    "for i in range(133165):   \n",
    "    newdataframe.drop([i+608], axis=0, inplace=True)\n",
    "newdataframe.to_csv('directory/updated.csv', mode='a', header=False)"
   ]
  },
  {
   "cell_type": "code",
   "execution_count": 37,
   "id": "66f6f81e-a1d6-46a6-8c6b-a44e33eea190",
   "metadata": {},
   "outputs": [
    {
     "name": "stdout",
     "output_type": "stream",
     "text": [
      "   Part                                              Image          Layout  \\\n",
      "0     1  PillProjectDisc69/images/CLLLLUPGIX7J8MP1WWQ9W...  C3PI_Reference   \n",
      "1     1  PillProjectDisc98/images/PRNJ-AXZIQ!HUQKJJBP_D...  C3PI_Reference   \n",
      "2     1  PillProjectDisc10/images/79U-YY6M1UUR6F127ZMAC...       C3PI_Test   \n",
      "3     1  PillProjectDisc11/images/7WVFV5H74!ELFNQ_GUH92...       C3PI_Test   \n",
      "4     1  PillProjectDisc20/images/B4CH0R9B7PEQ6GORRX-8X...       C3PI_Test   \n",
      "\n",
      "             Name  \n",
      "0  STRATTERA 10MG  \n",
      "1  STRATTERA 10MG  \n",
      "2  STRATTERA 10MG  \n",
      "3  STRATTERA 10MG  \n",
      "4  STRATTERA 10MG  \n"
     ]
    }
   ],
   "source": [
    "print(newdataframe.head())"
   ]
  },
  {
   "cell_type": "code",
   "execution_count": 38,
   "id": "dfdbb2c4-97b2-40d5-b9b8-98d362674b5e",
   "metadata": {},
   "outputs": [
    {
     "name": "stdout",
     "output_type": "stream",
     "text": [
      "        Part                                              Image  \\\n",
      "604        1  PillProjectDisc52/images/BYP7YH143333-M1BM2AI_...   \n",
      "605        1  PillProjectDisc94/images/L8-UJLHL6F9KGY6WL0K3O...   \n",
      "606        1  PillProjectDisc67/images/CJVOH-M-EG1MRT_PSTXA5...   \n",
      "607        1  PillProjectDisc107/images/XQ!1MVZMSGUJJPZLZC-5...   \n",
      "133773     1  PillProjectDisc23/images/B7P0-2BHT7T88IHB4E1EE...   \n",
      "\n",
      "                      Layout                Name  \n",
      "604           C3PI_Reference     ELIQUIS Tablets  \n",
      "605           C3PI_Reference     ELIQUIS Tablets  \n",
      "606     MC_API_NLMIMAGE_V1.3     ELIQUIS Tablets  \n",
      "607        MC_API_RXNAV_V1.3     ELIQUIS Tablets  \n",
      "133773  MC_SPL_SPLIMAGE_V3.0  SOLODYN 105 MG TAB  \n"
     ]
    }
   ],
   "source": [
    "print(newdataframe.tail())"
   ]
  },
  {
   "cell_type": "code",
   "execution_count": 42,
   "id": "ef3458f6-414f-41ee-911e-2b9362ac9a77",
   "metadata": {},
   "outputs": [
    {
     "data": {
      "text/html": [
       "<div>\n",
       "<style scoped>\n",
       "    .dataframe tbody tr th:only-of-type {\n",
       "        vertical-align: middle;\n",
       "    }\n",
       "\n",
       "    .dataframe tbody tr th {\n",
       "        vertical-align: top;\n",
       "    }\n",
       "\n",
       "    .dataframe thead th {\n",
       "        text-align: right;\n",
       "    }\n",
       "</style>\n",
       "<table border=\"1\" class=\"dataframe\">\n",
       "  <thead>\n",
       "    <tr style=\"text-align: right;\">\n",
       "      <th></th>\n",
       "      <th>Part</th>\n",
       "      <th>Image</th>\n",
       "      <th>Layout</th>\n",
       "      <th>Name</th>\n",
       "    </tr>\n",
       "  </thead>\n",
       "  <tbody>\n",
       "    <tr>\n",
       "      <th>0</th>\n",
       "      <td>1</td>\n",
       "      <td>PillProjectDisc69/images/CLLLLUPGIX7J8MP1WWQ9W...</td>\n",
       "      <td>C3PI_Reference</td>\n",
       "      <td>STRATTERA 10MG</td>\n",
       "    </tr>\n",
       "    <tr>\n",
       "      <th>1</th>\n",
       "      <td>1</td>\n",
       "      <td>PillProjectDisc98/images/PRNJ-AXZIQ!HUQKJJBP_D...</td>\n",
       "      <td>C3PI_Reference</td>\n",
       "      <td>STRATTERA 10MG</td>\n",
       "    </tr>\n",
       "    <tr>\n",
       "      <th>2</th>\n",
       "      <td>1</td>\n",
       "      <td>PillProjectDisc10/images/79U-YY6M1UUR6F127ZMAC...</td>\n",
       "      <td>C3PI_Test</td>\n",
       "      <td>STRATTERA 10MG</td>\n",
       "    </tr>\n",
       "    <tr>\n",
       "      <th>3</th>\n",
       "      <td>1</td>\n",
       "      <td>PillProjectDisc11/images/7WVFV5H74!ELFNQ_GUH92...</td>\n",
       "      <td>C3PI_Test</td>\n",
       "      <td>STRATTERA 10MG</td>\n",
       "    </tr>\n",
       "    <tr>\n",
       "      <th>4</th>\n",
       "      <td>1</td>\n",
       "      <td>PillProjectDisc20/images/B4CH0R9B7PEQ6GORRX-8X...</td>\n",
       "      <td>C3PI_Test</td>\n",
       "      <td>STRATTERA 10MG</td>\n",
       "    </tr>\n",
       "    <tr>\n",
       "      <th>...</th>\n",
       "      <td>...</td>\n",
       "      <td>...</td>\n",
       "      <td>...</td>\n",
       "      <td>...</td>\n",
       "    </tr>\n",
       "    <tr>\n",
       "      <th>603</th>\n",
       "      <td>1</td>\n",
       "      <td>PillProjectDisc41/images/BO4BH8HQI9XXF534Z_-C0...</td>\n",
       "      <td>MC_SPL_SPLIMAGE_V3.0</td>\n",
       "      <td>ELIQUIS Tablets</td>\n",
       "    </tr>\n",
       "    <tr>\n",
       "      <th>604</th>\n",
       "      <td>1</td>\n",
       "      <td>PillProjectDisc52/images/BYP7YH143333-M1BM2AI_...</td>\n",
       "      <td>C3PI_Reference</td>\n",
       "      <td>ELIQUIS Tablets</td>\n",
       "    </tr>\n",
       "    <tr>\n",
       "      <th>605</th>\n",
       "      <td>1</td>\n",
       "      <td>PillProjectDisc94/images/L8-UJLHL6F9KGY6WL0K3O...</td>\n",
       "      <td>C3PI_Reference</td>\n",
       "      <td>ELIQUIS Tablets</td>\n",
       "    </tr>\n",
       "    <tr>\n",
       "      <th>606</th>\n",
       "      <td>1</td>\n",
       "      <td>PillProjectDisc67/images/CJVOH-M-EG1MRT_PSTXA5...</td>\n",
       "      <td>MC_API_NLMIMAGE_V1.3</td>\n",
       "      <td>ELIQUIS Tablets</td>\n",
       "    </tr>\n",
       "    <tr>\n",
       "      <th>607</th>\n",
       "      <td>1</td>\n",
       "      <td>PillProjectDisc107/images/XQ!1MVZMSGUJJPZLZC-5...</td>\n",
       "      <td>MC_API_RXNAV_V1.3</td>\n",
       "      <td>ELIQUIS Tablets</td>\n",
       "    </tr>\n",
       "  </tbody>\n",
       "</table>\n",
       "<p>608 rows × 4 columns</p>\n",
       "</div>"
      ],
      "text/plain": [
       "     Part                                              Image  \\\n",
       "0       1  PillProjectDisc69/images/CLLLLUPGIX7J8MP1WWQ9W...   \n",
       "1       1  PillProjectDisc98/images/PRNJ-AXZIQ!HUQKJJBP_D...   \n",
       "2       1  PillProjectDisc10/images/79U-YY6M1UUR6F127ZMAC...   \n",
       "3       1  PillProjectDisc11/images/7WVFV5H74!ELFNQ_GUH92...   \n",
       "4       1  PillProjectDisc20/images/B4CH0R9B7PEQ6GORRX-8X...   \n",
       "..    ...                                                ...   \n",
       "603     1  PillProjectDisc41/images/BO4BH8HQI9XXF534Z_-C0...   \n",
       "604     1  PillProjectDisc52/images/BYP7YH143333-M1BM2AI_...   \n",
       "605     1  PillProjectDisc94/images/L8-UJLHL6F9KGY6WL0K3O...   \n",
       "606     1  PillProjectDisc67/images/CJVOH-M-EG1MRT_PSTXA5...   \n",
       "607     1  PillProjectDisc107/images/XQ!1MVZMSGUJJPZLZC-5...   \n",
       "\n",
       "                   Layout             Name  \n",
       "0          C3PI_Reference   STRATTERA 10MG  \n",
       "1          C3PI_Reference   STRATTERA 10MG  \n",
       "2               C3PI_Test   STRATTERA 10MG  \n",
       "3               C3PI_Test   STRATTERA 10MG  \n",
       "4               C3PI_Test   STRATTERA 10MG  \n",
       "..                    ...              ...  \n",
       "603  MC_SPL_SPLIMAGE_V3.0  ELIQUIS Tablets  \n",
       "604        C3PI_Reference  ELIQUIS Tablets  \n",
       "605        C3PI_Reference  ELIQUIS Tablets  \n",
       "606  MC_API_NLMIMAGE_V1.3  ELIQUIS Tablets  \n",
       "607     MC_API_RXNAV_V1.3  ELIQUIS Tablets  \n",
       "\n",
       "[608 rows x 4 columns]"
      ]
     },
     "execution_count": 42,
     "metadata": {},
     "output_type": "execute_result"
    }
   ],
   "source": [
    "newdataframe.drop([133773])"
   ]
  },
  {
   "cell_type": "code",
   "execution_count": 56,
   "id": "e0a49634-dd1e-44da-984f-d357a2b50cec",
   "metadata": {},
   "outputs": [],
   "source": [
    "newdataframe = newdataframe[['Image', 'Layout', 'Name']]\n",
    "newdataframe.to_csv('directory/pilldatasetnew3.csv', header=['Image', 'Layout', 'Name'])"
   ]
  },
  {
   "cell_type": "markdown",
   "id": "687bc5b0-e149-4241-8823-ab8269d453bd",
   "metadata": {},
   "source": [
    "### Now begin to work on downloading only specific files to start with"
   ]
  }
 ],
 "metadata": {
  "kernelspec": {
   "display_name": "Python 3 (ipykernel)",
   "language": "python",
   "name": "python3"
  },
  "language_info": {
   "codemirror_mode": {
    "name": "ipython",
    "version": 3
   },
   "file_extension": ".py",
   "mimetype": "text/x-python",
   "name": "python",
   "nbconvert_exporter": "python",
   "pygments_lexer": "ipython3",
   "version": "3.10.11"
  }
 },
 "nbformat": 4,
 "nbformat_minor": 5
}
